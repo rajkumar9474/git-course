{
 "cells": [
  {
   "cell_type": "markdown",
   "metadata": {},
   "source": [
    "# initilise git\n",
    "##### once we have navigate the correct folder , we can nevigate not hat folder\n",
    "\n",
    "```shell\n",
    "git init\n",
    "Initialized empty Git repository in C:/Users/rajku/OneDrive/Desktop/git-course/.git/\n",
    "```\n",
    "##### we just created our first git repos"
   ]
  },
  {
   "cell_type": "markdown",
   "metadata": {},
   "source": [
    "# adding new files\n",
    "##### So let's add some files\n",
    "\n",
    "```bash\n",
    "git add git.ipynb\n",
    "\n",
    "git status\n",
    "On branch master\n",
    "\n",
    "No commits yet\n",
    "\n",
    "Changes to be committed:\n",
    "  (use \"git rm --cached <file>...\" to unstage)\n",
    "        new file:   git.ipynb\n",
    "\n",
    "Untracked files:\n",
    "  (use \"git add <file>...\" to include in what will be committed)\n",
    "        git.md\n",
    "```\n"
   ]
  },
  {
   "cell_type": "markdown",
   "metadata": {},
   "source": [
    "# git stagging environment\n",
    "##### As you are working, you may be adding, editing and removing files. But whenever you hit a milestone or finish a part of the work, you should add the files to a Staging Environment.\n",
    "\n",
    "```bash\n",
    "git add git.ipynb\n",
    "warning: in the working copy of 'git.ipynb', LF will be replaced by CRLF the next time Git touches it\n",
    "\n",
    "git status\n",
    "On branch master\n",
    "\n",
    "No commits yet\n",
    "\n",
    "Changes to be committed:\n",
    "  (use \"git rm --cached <file>...\" to unstage)        \n",
    "        new file:   git.ipynb\n",
    "\n",
    "Changes not staged for commit:\n",
    "  (use \"git add <file>...\" to update what will be committed)\n",
    "  (use \"git restore <file>...\" to discard changes in working directory)\n",
    "        modified:   git.ipynb\n",
    "\n",
    "Untracked files:\n",
    "  (use \"git add <file>...\" to include in what will be committed)\n",
    "        git.md\n",
    "```\n",
    "\n",
    "## git add more than one file\n",
    "```bash\n",
    "git add --all\n",
    "git add -A \n",
    "\n",
    "git status \n",
    "On branch master\n",
    "\n",
    "No commits yet\n",
    "\n",
    "Changes to be committed:\n",
    "  (use \"git rm --cached <file>...\" to unstage)        \n",
    "        new file:   git.ipynb\n",
    "        new file:   git.md\n",
    "```\n"
   ]
  },
  {
   "cell_type": "markdown",
   "metadata": {},
   "source": [
    "# git commit\n",
    "##### Since we have finished our work, we are ready move from stage to commit for our repo.Adding commits keep track of our progress and changes as we work.When we commit, we should always include a message.\n",
    "\n",
    "```bash\n",
    "git commit -m \"this is the first commit\"\n",
    "[master 765c1a6] this is the first commit\n",
    " 1 file changed, 9 insertions(+), 1 deletion(-)\n",
    "```\n",
    "\n",
    "# git commit log\n",
    "##### To view the history of commits for a repository, you can use the log command:\n",
    "\n",
    "```bash\n",
    "git log\n",
    "commit 765c1a6cf97cff24ac83e20a1443b666a605da24 (HEAD -> master)\n",
    "Author: rajkumar <raj9434153@gmail.com>\n",
    "Date:   Wed Dec 27 19:32:05 2023 +0530\n",
    "\n",
    "    this is the first commit\n",
    "\n",
    "commit d428cc1eeacc23ea70b18c4ace73e2e6348db611\n",
    "Author: rajkumar <raj9434153@gmail.com>\n",
    "Date:   Wed Dec 27 19:31:24 2023 +0530\n",
    "\n",
    "    this is the first commit\n",
    "```\n"
   ]
  },
  {
   "cell_type": "markdown",
   "metadata": {},
   "source": [
    "# git help\n",
    "##### If you are having trouble remembering commands or options for commands, you can use Git help.\n",
    "\n",
    "```bash\n",
    "git command -help -  See all the available options for the specific command\n",
    "git help --all -  See all possible commands\n",
    "```"
   ]
  },
  {
   "cell_type": "markdown",
   "metadata": {},
   "source": [
    "# git branch\n",
    "##### In Git, a branch is a new/separate version of the main repository.\n",
    "\n",
    "# new git branch\n",
    "##### We are working in our local repository, and we do not want to disturb or possibly wreck the main project. So we create a new branch\n",
    "\n",
    "```bash\n",
    "git branch main\n",
    "```\n",
    "\n",
    "```bash\n",
    "git branch\n",
    "  main\n",
    "* master\n",
    "```\n",
    "\n",
    "```bash\n",
    "git checkout main\n",
    "Switched to branch 'main'\n",
    "M       git.ipynb\n",
    "```\n",
    "\n",
    "```bash\n",
    "\n",
    "git add --all\n",
    "PS C:\\Users\\rajku\\OneDrive\\Desktop\\git-course> git status\n",
    "On branch main\n",
    "Changes to be committed:\n",
    "  (use \"git restore --staged <file>...\" to unstage)\n",
    "        modified:   git.ipynb\n",
    "        new file:   new.py\n",
    "```\n",
    "\n",
    "# add commit for this new file\n",
    "```bash\n",
    "git commit -m \"added new file to main\"\n",
    "[main da10bc8] added new file to main\n",
    " 2 files changed, 78 insertions(+)\n",
    " create mode 100644 new.py\n",
    "```\n"
   ]
  },
  {
   "cell_type": "markdown",
   "metadata": {},
   "source": [
    "# switching between branches\n"
   ]
  }
 ],
 "metadata": {
  "kernelspec": {
   "display_name": "Python 3",
   "language": "python",
   "name": "python3"
  },
  "language_info": {
   "codemirror_mode": {
    "name": "ipython",
    "version": 3
   },
   "file_extension": ".py",
   "mimetype": "text/x-python",
   "name": "python",
   "nbconvert_exporter": "python",
   "pygments_lexer": "ipython3",
   "version": "3.12.1"
  }
 },
 "nbformat": 4,
 "nbformat_minor": 2
}
